{
 "cells": [
  {
   "cell_type": "code",
   "execution_count": 1,
   "id": "15199d54-0f8a-43c8-b5fe-478c9c454a0b",
   "metadata": {},
   "outputs": [],
   "source": [
    "import pandas as pd\n",
    "import numpy as np\n",
    "import scipy as sp\n",
    "from generate_datasets import *\n",
    "import sys\n",
    "sys.path.append('..')\n",
    "from utils import *\n",
    "import matplotlib.pyplot as plt\n",
    "\n",
    "from tqdm.auto import tqdm\n",
    "\n",
    "import statsmodels as sm\n",
    "import statsmodels.api as sma\n",
    "import statsmodels.tsa.api as smt"
   ]
  },
  {
   "cell_type": "code",
   "execution_count": 2,
   "id": "253ceb8b-1b37-4920-813e-3b2f7e07ada7",
   "metadata": {},
   "outputs": [],
   "source": [
    "from scipy.sparse import dia_matrix"
   ]
  },
  {
   "cell_type": "code",
   "execution_count": 3,
   "id": "2887b3c8-4732-4f18-8f9b-2995b7e5b3d3",
   "metadata": {},
   "outputs": [],
   "source": [
    "rng = np.random.default_rng()"
   ]
  },
  {
   "cell_type": "markdown",
   "id": "76765750-9320-4836-8b0f-eef5cc571047",
   "metadata": {},
   "source": [
    "# Cholesky"
   ]
  },
  {
   "cell_type": "code",
   "execution_count": 4,
   "id": "e7d23465-3caa-4586-9c11-40156cbb27fb",
   "metadata": {},
   "outputs": [],
   "source": [
    "def cb(A):\n",
    "    \"\"\"Performs a Cholesky decomposition of A, which must \n",
    "    be a symmetric and positive definite matrix. The function\n",
    "    returns the lower variant triangular matrix, L.\"\"\"\n",
    "    n = len(A)\n",
    "\n",
    "    # Create zero matrix for L\n",
    "    L = [[0.0] * n for i in range(n)]\n",
    "\n",
    "    # Perform the Cholesky decomposition\n",
    "    for i in tqdm(range(n)):\n",
    "        for k in range(i+1):\n",
    "            tmp_sum = sum(L[i][j] * L[k][j] for j in range(k))\n",
    "            \n",
    "            if (i == k): # Diagonal elements\n",
    "                # LaTeX: l_{kk} = \\sqrt{ a_{kk} - \\sum^{k-1}_{j=1} l^2_{kj}}\n",
    "                L[i][k] = np.sqrt(A[i][i] - tmp_sum)\n",
    "            else:\n",
    "                # LaTeX: l_{ik} = \\frac{1}{l_{kk}} \\left( a_{ik} - \\sum^{k-1}_{j=1} l_{ij} l_{kj} \\right)\n",
    "                L[i][k] = (1.0 / L[k][k] * (A[i][k] - tmp_sum))\n",
    "    return L"
   ]
  },
  {
   "cell_type": "code",
   "execution_count": 5,
   "id": "50d3c72a-28d8-49fc-8654-ec59a76a6150",
   "metadata": {},
   "outputs": [
    {
     "name": "stdout",
     "output_type": "stream",
     "text": [
      "1.73 s ± 98.7 ms per loop (mean ± std. dev. of 7 runs, 1 loop each)\n"
     ]
    },
    {
     "data": {
      "text/plain": [
       "array([[2.82842712, 0.        , 0.        , ..., 0.        , 0.        ,\n",
       "        0.        ],\n",
       "       [1.41421356, 2.44948974, 0.        , ..., 0.        , 0.        ,\n",
       "        0.        ],\n",
       "       [0.70710678, 1.22474487, 2.44948974, ..., 0.        , 0.        ,\n",
       "        0.        ],\n",
       "       ...,\n",
       "       [0.        , 0.        , 0.        , ..., 2.43869396, 0.        ,\n",
       "        0.        ],\n",
       "       [0.        , 0.        , 0.        , ..., 1.22804555, 2.43869396,\n",
       "        0.        ],\n",
       "       [0.        , 0.        , 0.        , ..., 0.6136207 , 1.22804555,\n",
       "        2.43869396]])"
      ]
     },
     "execution_count": 5,
     "metadata": {},
     "output_type": "execute_result"
    }
   ],
   "source": [
    "A = 8*np.eye(10000) + np.diag([4]*9999, 1) + np.diag([4]*9999, -1) + np.diag([2]*9998, 2) + np.diag([2]*9998, -2) + np.diag([1]*9997, 3) + np.diag([1]*9997, -3)\n",
    "%timeit sp.linalg.cholesky(A)\n",
    "L = sp.linalg.cholesky(A)\n",
    "L.T"
   ]
  },
  {
   "cell_type": "code",
   "execution_count": 6,
   "id": "c1b58497-f486-4895-9320-3e5a747d9594",
   "metadata": {
    "scrolled": true
   },
   "outputs": [
    {
     "name": "stdout",
     "output_type": "stream",
     "text": [
      "522 ms ± 5.58 ms per loop (mean ± std. dev. of 7 runs, 1 loop each)\n"
     ]
    },
    {
     "data": {
      "text/plain": [
       "array([[8., 4., 2., ..., 0., 0., 0.],\n",
       "       [4., 8., 4., ..., 0., 0., 0.],\n",
       "       [2., 4., 8., ..., 0., 0., 0.],\n",
       "       ...,\n",
       "       [0., 0., 0., ..., 8., 4., 2.],\n",
       "       [0., 0., 0., ..., 4., 8., 4.],\n",
       "       [0., 0., 0., ..., 2., 4., 8.]])"
      ]
     },
     "execution_count": 6,
     "metadata": {},
     "output_type": "execute_result"
    }
   ],
   "source": [
    "%timeit diag_cholesky(A)\n",
    "t = diag_cholesky(A)\n",
    "#t = dia_matrix((t, [0, 1, 2, 3]), shape=[10000, 10000])\n",
    "t.T.dot(t).toarray()"
   ]
  },
  {
   "cell_type": "code",
   "execution_count": 7,
   "id": "f77dba82-c9c9-45d7-bcee-a81feb75bcd1",
   "metadata": {},
   "outputs": [
    {
     "data": {
      "application/vnd.jupyter.widget-view+json": {
       "model_id": "d9fe07622c0b4b20b609ca3105df11a5",
       "version_major": 2,
       "version_minor": 0
      },
      "text/plain": [
       "  0%|          | 0/10000 [00:00<?, ?it/s]"
      ]
     },
     "metadata": {},
     "output_type": "display_data"
    },
    {
     "ename": "KeyboardInterrupt",
     "evalue": "",
     "output_type": "error",
     "traceback": [
      "\u001b[0;31m---------------------------------------------------------------------------\u001b[0m",
      "\u001b[0;31mKeyboardInterrupt\u001b[0m                         Traceback (most recent call last)",
      "Cell \u001b[0;32mIn[7], line 1\u001b[0m\n\u001b[0;32m----> 1\u001b[0m \u001b[43mcb\u001b[49m\u001b[43m(\u001b[49m\u001b[43mA\u001b[49m\u001b[43m)\u001b[49m\n",
      "Cell \u001b[0;32mIn[4], line 13\u001b[0m, in \u001b[0;36mcb\u001b[0;34m(A)\u001b[0m\n\u001b[1;32m     11\u001b[0m \u001b[38;5;28;01mfor\u001b[39;00m i \u001b[38;5;129;01min\u001b[39;00m tqdm(\u001b[38;5;28mrange\u001b[39m(n)):\n\u001b[1;32m     12\u001b[0m     \u001b[38;5;28;01mfor\u001b[39;00m k \u001b[38;5;129;01min\u001b[39;00m \u001b[38;5;28mrange\u001b[39m(i\u001b[38;5;241m+\u001b[39m\u001b[38;5;241m1\u001b[39m):\n\u001b[0;32m---> 13\u001b[0m         tmp_sum \u001b[38;5;241m=\u001b[39m \u001b[38;5;28msum\u001b[39m(L[i][j] \u001b[38;5;241m*\u001b[39m L[k][j] \u001b[38;5;28;01mfor\u001b[39;00m j \u001b[38;5;129;01min\u001b[39;00m \u001b[38;5;28mrange\u001b[39m(k))\n\u001b[1;32m     15\u001b[0m         \u001b[38;5;28;01mif\u001b[39;00m (i \u001b[38;5;241m==\u001b[39m k): \u001b[38;5;66;03m# Diagonal elements\u001b[39;00m\n\u001b[1;32m     16\u001b[0m             \u001b[38;5;66;03m# LaTeX: l_{kk} = \\sqrt{ a_{kk} - \\sum^{k-1}_{j=1} l^2_{kj}}\u001b[39;00m\n\u001b[1;32m     17\u001b[0m             L[i][k] \u001b[38;5;241m=\u001b[39m np\u001b[38;5;241m.\u001b[39msqrt(A[i][i] \u001b[38;5;241m-\u001b[39m tmp_sum)\n",
      "Cell \u001b[0;32mIn[4], line 13\u001b[0m, in \u001b[0;36m<genexpr>\u001b[0;34m(.0)\u001b[0m\n\u001b[1;32m     11\u001b[0m \u001b[38;5;28;01mfor\u001b[39;00m i \u001b[38;5;129;01min\u001b[39;00m tqdm(\u001b[38;5;28mrange\u001b[39m(n)):\n\u001b[1;32m     12\u001b[0m     \u001b[38;5;28;01mfor\u001b[39;00m k \u001b[38;5;129;01min\u001b[39;00m \u001b[38;5;28mrange\u001b[39m(i\u001b[38;5;241m+\u001b[39m\u001b[38;5;241m1\u001b[39m):\n\u001b[0;32m---> 13\u001b[0m         tmp_sum \u001b[38;5;241m=\u001b[39m \u001b[38;5;28msum\u001b[39m(L[i][j] \u001b[38;5;241m*\u001b[39m L[k][j] \u001b[38;5;28;01mfor\u001b[39;00m j \u001b[38;5;129;01min\u001b[39;00m \u001b[38;5;28mrange\u001b[39m(k))\n\u001b[1;32m     15\u001b[0m         \u001b[38;5;28;01mif\u001b[39;00m (i \u001b[38;5;241m==\u001b[39m k): \u001b[38;5;66;03m# Diagonal elements\u001b[39;00m\n\u001b[1;32m     16\u001b[0m             \u001b[38;5;66;03m# LaTeX: l_{kk} = \\sqrt{ a_{kk} - \\sum^{k-1}_{j=1} l^2_{kj}}\u001b[39;00m\n\u001b[1;32m     17\u001b[0m             L[i][k] \u001b[38;5;241m=\u001b[39m np\u001b[38;5;241m.\u001b[39msqrt(A[i][i] \u001b[38;5;241m-\u001b[39m tmp_sum)\n",
      "\u001b[0;31mKeyboardInterrupt\u001b[0m: "
     ]
    }
   ],
   "source": [
    "# too slow\n",
    "cb(A)"
   ]
  },
  {
   "cell_type": "markdown",
   "id": "b800c396-9f77-4f12-9809-29b019599c0d",
   "metadata": {},
   "source": [
    "# Test generate_true_X"
   ]
  },
  {
   "cell_type": "code",
   "execution_count": 8,
   "id": "7566a9a3-e3a6-484a-ac3a-0722d4955174",
   "metadata": {},
   "outputs": [
    {
     "name": "stdout",
     "output_type": "stream",
     "text": [
      "[[ 1.         -0.00664651 -0.04940442 -0.08339106]\n",
      " [-0.00664651  1.          0.10106227 -0.05131401]\n",
      " [-0.04940442  0.10106227  1.          0.03611323]\n",
      " [-0.08339106 -0.05131401  0.03611323  1.        ]]\n",
      "[[ 1.         -0.16712901 -0.00527101  0.01116222]\n",
      " [-0.16712901  1.          0.06126892 -0.1453943 ]\n",
      " [-0.00527101  0.06126892  1.          0.14445124]\n",
      " [ 0.01116222 -0.1453943   0.14445124  1.        ]]\n",
      "[[ 1.          0.06201844 -0.16554649 -0.11122436]\n",
      " [ 0.06201844  1.         -0.04519076 -0.0059155 ]\n",
      " [-0.16554649 -0.04519076  1.          0.0319034 ]\n",
      " [-0.11122436 -0.0059155   0.0319034   1.        ]]\n",
      "[[ 1.          0.0255557   0.05571433 -0.09592351]\n",
      " [ 0.0255557   1.         -0.02827608 -0.18402786]\n",
      " [ 0.05571433 -0.02827608  1.          0.01977306]\n",
      " [-0.09592351 -0.18402786  0.01977306  1.        ]]\n",
      "[[ 1.          0.20661081  0.01286692  0.23269738]\n",
      " [ 0.20661081  1.         -0.12837979  0.18767172]\n",
      " [ 0.01286692 -0.12837979  1.          0.02027533]\n",
      " [ 0.23269738  0.18767172  0.02027533  1.        ]]\n",
      "(100, 4)\n"
     ]
    }
   ],
   "source": [
    "dg = DataGenerator(123)\n",
    "for i in range(5):\n",
    "    dg.generate_true_X([100, 4])\n",
    "    tX = dg.true_X.copy()\n",
    "    print(cov2cor(np.cov(tX, rowvar=False)))\n",
    "print(tX.shape)"
   ]
  },
  {
   "cell_type": "code",
   "execution_count": 9,
   "id": "c2d6e60c-c813-4f65-b6b3-eead111c2ba4",
   "metadata": {},
   "outputs": [
    {
     "name": "stdout",
     "output_type": "stream",
     "text": [
      "mean var 1.5333229658086585\n",
      "mean abs corr 0.3264795590531823\n",
      "mean var 2.731838760948038\n",
      "mean abs corr 0.3260479223175841\n",
      "mean var 1.6238666741578447\n",
      "mean abs corr 0.3764442127846743\n",
      "mean var 4.817827020919212\n",
      "mean abs corr 0.6193361560695296\n",
      "mean var 2.4432405714030447\n",
      "mean abs corr 0.3706357580236883\n",
      "(100, 4)\n"
     ]
    }
   ],
   "source": [
    "dg = DataGenerator(123)\n",
    "for i in range(5):\n",
    "    dg.generate_true_X([100, 4], {'k': 1, 'diag': 1})\n",
    "    tX = dg.true_X.copy()\n",
    "    print('mean var', np.diag(np.cov(tX, rowvar=False)).mean())\n",
    "    cor = cov2cor(np.cov(tX, rowvar=False))\n",
    "    print('mean abs corr', np.abs(cor[np.triu(nondiag(cor), 1)]).mean())\n",
    "print(tX.shape)"
   ]
  },
  {
   "cell_type": "code",
   "execution_count": 10,
   "id": "3785b3d9-93f4-475c-ac3a-b1e039bab3be",
   "metadata": {},
   "outputs": [
    {
     "name": "stdout",
     "output_type": "stream",
     "text": [
      "mean var 1.0039284547869132\n",
      "mean abs corr 0.05465525087788025\n",
      "mean var 1.0401525670174963\n",
      "mean abs corr 0.0891127822421749\n",
      "mean var 0.9726611461062653\n",
      "mean abs corr 0.07029982274433495\n",
      "mean var 1.1184184769787424\n",
      "mean abs corr 0.06821175867881563\n",
      "mean var 1.0609660409383936\n",
      "mean abs corr 0.1314169931290616\n",
      "(100, 4)\n"
     ]
    }
   ],
   "source": [
    "dg = DataGenerator(123)\n",
    "for i in range(5):\n",
    "    dg.generate_true_X([100, 4], 1)\n",
    "    tX = dg.true_X.copy()\n",
    "    print('mean var', np.diag(np.cov(tX, rowvar=False)).mean())\n",
    "    cor = cov2cor(np.cov(tX, rowvar=False))\n",
    "    print('mean abs corr', np.abs(cor[np.triu(nondiag(cor), 1)]).mean())\n",
    "print(tX.shape)"
   ]
  },
  {
   "cell_type": "code",
   "execution_count": 11,
   "id": "1e15c60f-1578-41e4-a24c-bde96deef313",
   "metadata": {},
   "outputs": [
    {
     "name": "stdout",
     "output_type": "stream",
     "text": [
      "mean var 2.485019401652155\n",
      "mean abs corr 0.054655250877880236\n",
      "mean var 2.50908212418454\n",
      "mean abs corr 0.08911278224217495\n",
      "mean var 2.580010709058193\n",
      "mean abs corr 0.07029982274433494\n",
      "mean var 2.690343381872823\n",
      "mean abs corr 0.06821175867881564\n",
      "mean var 2.70666574456137\n",
      "mean abs corr 0.1314169931290616\n",
      "(100, 4)\n"
     ]
    }
   ],
   "source": [
    "dg = DataGenerator(123)\n",
    "for i in range(5):\n",
    "    dg.generate_true_X([100, 4], np.array([1, 2, 3, 4]))\n",
    "    tX = dg.true_X.copy()\n",
    "    print('mean var', np.diag(np.cov(tX, rowvar=False)).mean())\n",
    "    cor = cov2cor(np.cov(tX, rowvar=False))\n",
    "    print('mean abs corr', np.abs(cor[np.triu(nondiag(cor), 1)]).mean())\n",
    "print(tX.shape)"
   ]
  },
  {
   "cell_type": "code",
   "execution_count": 12,
   "id": "119c1b4c-4162-427b-9d79-c1fde6a0746f",
   "metadata": {},
   "outputs": [
    {
     "name": "stdout",
     "output_type": "stream",
     "text": [
      "mean var 3.0455041908449876\n",
      "mean abs corr 0.3050986487812923\n",
      "mean var 2.944344351446133\n",
      "mean abs corr 0.33271276957376944\n",
      "mean var 2.9481593189602897\n",
      "mean abs corr 0.31478298685942485\n",
      "mean var 3.2420927569703197\n",
      "mean abs corr 0.32877747919492906\n",
      "mean var 3.077945394427602\n",
      "mean abs corr 0.3370448751395597\n",
      "(10000, 100)\n"
     ]
    }
   ],
   "source": [
    "dg = DataGenerator(123)\n",
    "for i in range(5):\n",
    "    dg.generate_true_X([10000, 100], {'k': 2, 'diag': 1})\n",
    "    tX = dg.true_X.copy()\n",
    "    print('mean var', np.diag(np.cov(tX, rowvar=False)).mean())\n",
    "    cor = cov2cor(np.cov(tX, rowvar=False))\n",
    "    print('mean abs corr', np.abs(cor[np.triu(nondiag(cor), 1)]).mean())\n",
    "print(tX.shape)"
   ]
  },
  {
   "cell_type": "markdown",
   "id": "75fc0180-c3b8-44ee-81ba-b9d98b9e2c10",
   "metadata": {},
   "source": [
    "# Test generate_coefs"
   ]
  },
  {
   "cell_type": "code",
   "execution_count": 13,
   "id": "43072659-6050-45b3-9ef6-56aaa3602339",
   "metadata": {},
   "outputs": [
    {
     "data": {
      "image/png": "[encoded data removed]",
      "text/plain": [
       "<Figure size 640x480 with 1 Axes>"
      ]
     },
     "metadata": {},
     "output_type": "display_data"
    },
    {
     "data": {
      "image/png": "[encoded data removed]",
      "text/plain": [
       "<Figure size 640x480 with 1 Axes>"
      ]
     },
     "metadata": {},
     "output_type": "display_data"
    },
    {
     "data": {
      "image/png": "[encoded data removed]",
      "text/plain": [
       "<Figure size 640x480 with 1 Axes>"
      ]
     },
     "metadata": {},
     "output_type": "display_data"
    },
    {
     "data": {
      "image/png": "[encoded data removed]",
      "text/plain": [
       "<Figure size 640x480 with 1 Axes>"
      ]
     },
     "metadata": {},
     "output_type": "display_data"
    },
    {
     "data": {
      "image/png": "[encoded data removed]",
      "text/plain": [
       "<Figure size 640x480 with 1 Axes>"
      ]
     },
     "metadata": {},
     "output_type": "display_data"
    }
   ],
   "source": [
    "dg = DataGenerator(123)\n",
    "for i in range(5):\n",
    "    dg.generate_true_X([10000, 100], {'k': 2, 'diag': 1})\n",
    "    dg.generate_coefs(4, 0.5)\n",
    "    plt.hist(dg.coefs)\n",
    "    plt.show()"
   ]
  },
  {
   "cell_type": "code",
   "execution_count": 10,
   "id": "5eb452c5-f408-4c21-b559-d595573a056a",
   "metadata": {},
   "outputs": [
    {
     "data": {
      "image/png": "[encoded data removed]",
      "text/plain": [
       "<Figure size 640x480 with 1 Axes>"
      ]
     },
     "metadata": {},
     "output_type": "display_data"
    },
    {
     "data": {
      "image/png": "[encoded data removed]",
      "text/plain": [
       "<Figure size 640x480 with 1 Axes>"
      ]
     },
     "metadata": {},
     "output_type": "display_data"
    },
    {
     "data": {
      "image/png": "[encoded data removed]",
      "text/plain": [
       "<Figure size 640x480 with 1 Axes>"
      ]
     },
     "metadata": {},
     "output_type": "display_data"
    },
    {
     "data": {
      "image/png": "[encoded data removed]",
      "text/plain": [
       "<Figure size 640x480 with 1 Axes>"
      ]
     },
     "metadata": {},
     "output_type": "display_data"
    },
    {
     "data": {
      "image/png": "[encoded data removed]",
      "text/plain": [
       "<Figure size 640x480 with 1 Axes>"
      ]
     },
     "metadata": {},
     "output_type": "display_data"
    }
   ],
   "source": [
    "dg = DataGenerator(123)\n",
    "for i in range(5):\n",
    "    dg.generate_true_X([10000, 100], {'k': 2, 'diag': 1})\n",
    "    dg.generate_coefs(4, 0.1, 0.9)\n",
    "    plt.hist(dg.coefs)\n",
    "    plt.show()"
   ]
  },
  {
   "cell_type": "markdown",
   "id": "bd438878-bb1e-408a-bf9f-6c18b49ed5d4",
   "metadata": {},
   "source": [
    "# Test generate Y"
   ]
  },
  {
   "cell_type": "code",
   "execution_count": 14,
   "id": "416ecf8a-cbcc-406a-a98e-9853d664a753",
   "metadata": {},
   "outputs": [
    {
     "name": "stdout",
     "output_type": "stream",
     "text": [
      "1.0150284812675852\n",
      "[[ 1.         -0.00699322]\n",
      " [-0.00699322  1.        ]]\n",
      "0.9926401847621562\n",
      "[[ 1.         -0.00148826]\n",
      " [-0.00148826  1.        ]]\n",
      "0.9971749827938271\n",
      "[[ 1.         -0.00228794]\n",
      " [-0.00228794  1.        ]]\n",
      "1.0007049242772574\n",
      "[[1.         0.01423486]\n",
      " [0.01423486 1.        ]]\n",
      "0.9957797837017064\n",
      "[[1.         0.00731392]\n",
      " [0.00731392 1.        ]]\n"
     ]
    }
   ],
   "source": [
    "dg = DataGenerator(123)\n",
    "for i in range(5):\n",
    "    dg.generate_true_X([10000, 100], {'k': 2, 'diag': 1})\n",
    "    dg.generate_coefs(4, 0.5)\n",
    "    dg.generate_Y(1)\n",
    "    err = dg.true_X.dot(dg.coefs) - dg.Y\n",
    "    print(np.var(err))\n",
    "    print(np.corrcoef(np.c_[err, np.roll(err, 1)], rowvar=False))"
   ]
  },
  {
   "cell_type": "code",
   "execution_count": 15,
   "id": "6a8a7de3-246b-42f3-ba83-f3ccf2d7be01",
   "metadata": {},
   "outputs": [
    {
     "name": "stdout",
     "output_type": "stream",
     "text": [
      "1.0090429182791507\n",
      "[[1.         0.29068575]\n",
      " [0.29068575 1.        ]]\n",
      "0.9924044348143525\n",
      "[[1.         0.29964194]\n",
      " [0.29964194 1.        ]]\n",
      "0.9994049310239858\n",
      "[[1.         0.30311957]\n",
      " [0.30311957 1.        ]]\n",
      "1.0081747233950584\n",
      "[[1.         0.31122242]\n",
      " [0.31122242 1.        ]]\n",
      "1.002606510368123\n",
      "[[1.         0.31035111]\n",
      " [0.31035111 1.        ]]\n"
     ]
    }
   ],
   "source": [
    "dg = DataGenerator(123)\n",
    "for i in range(5):\n",
    "    dg.generate_true_X([10000, 100], {'k': 2, 'diag': 1})\n",
    "    dg.generate_coefs(4, 0.5)\n",
    "    dg.generate_Y(1, 0.3)\n",
    "    err = dg.true_X.dot(dg.coefs) - dg.Y\n",
    "    print(np.var(err))\n",
    "    print(np.corrcoef(np.c_[err, np.roll(err, 1)], rowvar=False))"
   ]
  },
  {
   "cell_type": "markdown",
   "id": "58ce397d-a3c3-4f29-8709-c57f123cde52",
   "metadata": {},
   "source": [
    "# Test generate_obs_X"
   ]
  },
  {
   "cell_type": "code",
   "execution_count": 16,
   "id": "714d9a40-b6b9-440b-a20f-8180898d45c1",
   "metadata": {},
   "outputs": [],
   "source": [
    "dg.generate_observed_X()"
   ]
  },
  {
   "cell_type": "code",
   "execution_count": 17,
   "id": "8cca319f-d2eb-4c14-8835-1f2d3f576dcd",
   "metadata": {},
   "outputs": [
    {
     "data": {
      "text/plain": [
       "array([1.        , 0.5778427 , 0.60156816, 0.63701069, 0.5861605 ,\n",
       "       0.53899527, 0.58952492, 0.57314707, 0.60433447, 0.63179133,\n",
       "       0.61271206, 0.62527882, 0.63129239, 0.58223947, 0.50076623,\n",
       "       0.65421888, 0.57810471, 0.60066778, 0.57092716, 0.47191645,\n",
       "       0.64457821, 0.57436521, 0.56238547, 0.57264394, 0.6011484 ,\n",
       "       0.59540595, 0.79260129, 0.7170862 , 0.58627798, 0.60257183,\n",
       "       0.60032851, 0.35250844, 0.60969889, 0.58185614, 0.63332739,\n",
       "       0.60874174, 0.58603857, 0.60146281, 0.5897903 , 0.71906651,\n",
       "       0.553572  , 0.5988704 , 0.60271124, 0.61083775, 0.59014182,\n",
       "       0.56419501, 0.65337583, 0.59735784, 0.46738107, 0.60930095,\n",
       "       0.30023938, 0.58312977, 0.57989449, 0.33197415, 0.58947875,\n",
       "       0.66514319, 0.63396742, 0.60909317, 0.53150094, 2.67388462,\n",
       "       0.61278844, 0.61333952, 0.59703866, 0.5741351 , 0.53719448,\n",
       "       1.31091318, 0.62876338, 5.85604586, 0.51926253, 0.61109945,\n",
       "       0.50704471, 0.58059513, 0.63956971, 0.74337467, 0.53293212,\n",
       "       0.54403276, 0.60102235, 0.58675242, 0.63493614, 0.56956021,\n",
       "       0.60775244, 0.55563412, 0.60391614, 0.59310028, 0.60588204,\n",
       "       0.66429968, 0.59566239, 0.64695764, 0.58307245, 0.54262025,\n",
       "       0.50124538, 0.61173967, 0.74097929, 0.59838772, 0.60557778,\n",
       "       0.6223586 , 0.56483559, 0.60715763, 0.56750053, 0.53994306,\n",
       "       0.60171106])"
      ]
     },
     "execution_count": 17,
     "metadata": {},
     "output_type": "execute_result"
    }
   ],
   "source": [
    "np.corrcoef(np.c_[dg.Y, dg.obs_X], rowvar=False)[:, 0]/np.corrcoef(np.c_[dg.Y, dg.true_X], rowvar=False)[:, 0]"
   ]
  },
  {
   "cell_type": "markdown",
   "id": "7ef6120e-432d-4200-ad2c-803d0a707447",
   "metadata": {},
   "source": [
    "# Test generate_bad_features"
   ]
  },
  {
   "cell_type": "code",
   "execution_count": 18,
   "id": "e32825df-109b-4a42-8c59-93fc32812e39",
   "metadata": {},
   "outputs": [],
   "source": [
    "dg.generate_bad_features(10)"
   ]
  },
  {
   "cell_type": "code",
   "execution_count": 19,
   "id": "bf1ab5dd-9554-47c9-96d0-d2f8c38bbe38",
   "metadata": {},
   "outputs": [],
   "source": [
    "dg.generate_bad_features(5, 0.95)"
   ]
  },
  {
   "cell_type": "code",
   "execution_count": 20,
   "id": "7803f612-200b-40c6-857a-baf0c5be7198",
   "metadata": {},
   "outputs": [
    {
     "data": {
      "text/plain": [
       "array([ 0.00327227,  0.00545045, -0.0046552 ,  0.00661591,  0.00367112,\n",
       "       -0.01556787, -0.01566889, -0.00405398,  0.00667228, -0.00357091,\n",
       "       -0.21663092, -0.13422484,  0.04502975, -0.21704981, -0.0630188 ])"
      ]
     },
     "execution_count": 20,
     "metadata": {},
     "output_type": "execute_result"
    }
   ],
   "source": [
    "np.corrcoef(np.c_[dg.Y, dg.obs_X], rowvar=False)[101::, 0]"
   ]
  },
  {
   "cell_type": "code",
   "execution_count": 21,
   "id": "843896d4-93af-43f3-b65c-af5893dd5e43",
   "metadata": {},
   "outputs": [
    {
     "data": {
      "text/plain": [
       "array([0.99861777, 0.99862715, 0.99862443, 0.99862513, 0.99862393])"
      ]
     },
     "execution_count": 21,
     "metadata": {},
     "output_type": "execute_result"
    }
   ],
   "source": [
    "np.abs(np.corrcoef(np.c_[dg.true_X, dg.obs_X[:, 110:]], rowvar=False)[100:, :-5]).max(axis=1)"
   ]
  },
  {
   "cell_type": "markdown",
   "id": "09a66702-81c1-4c55-8ea3-2ef038d9f949",
   "metadata": {},
   "source": [
    "# Generate dataset with a dict"
   ]
  },
  {
   "cell_type": "code",
   "execution_count": 22,
   "id": "1bad4de6-3d8a-4bab-86fd-464b66fd05e6",
   "metadata": {},
   "outputs": [],
   "source": [
    "dataset_info = {\n",
    "    'name': 'test_1',\n",
    "    'shape': [1000, 50],\n",
    "    'gen_true_X': {'variance': {'k': 1, 'diag': 1}},\n",
    "    'gen_coefs': {'magnitude': 100, 'spread': 0.5, 'prop_neg': 0.6},\n",
    "    'gen_Y': {'variance': 5, 'autocorr': 0.4},\n",
    "    'gen_obs_X': {'coef': 0.7},\n",
    "    'gen_bad_features': {'n': 5, 'prop': [0.05, 0.1, 0.95, 0.5, 0.0001]}\n",
    "}"
   ]
  },
  {
   "cell_type": "code",
   "execution_count": 23,
   "id": "12da17db-9459-4535-9345-48b8e8ee227d",
   "metadata": {},
   "outputs": [],
   "source": [
    "dg = DataGenerator(321)"
   ]
  },
  {
   "cell_type": "code",
   "execution_count": 24,
   "id": "cd650ab5-c35e-4bdb-a0cb-e357926aa194",
   "metadata": {},
   "outputs": [],
   "source": [
    "dg.from_dict(dataset_info)"
   ]
  },
  {
   "cell_type": "code",
   "execution_count": 25,
   "id": "931323dd-c722-4917-aeb3-b65238ed94d8",
   "metadata": {},
   "outputs": [
    {
     "data": {
      "text/html": [
       "<table class=\"simpletable\">\n",
       "<caption>OLS Regression Results</caption>\n",
       "<tr>\n",
       "  <th>Dep. Variable:</th>            <td>y</td>        <th>  R-squared (uncentered):</th>      <td>   1.000</td> \n",
       "</tr>\n",
       "<tr>\n",
       "  <th>Model:</th>                   <td>OLS</td>       <th>  Adj. R-squared (uncentered):</th> <td>   1.000</td> \n",
       "</tr>\n",
       "<tr>\n",
       "  <th>Method:</th>             <td>Least Squares</td>  <th>  F-statistic:       </th>          <td>3.903e+06</td>\n",
       "</tr>\n",
       "<tr>\n",
       "  <th>Date:</th>             <td>Thu, 19 Sep 2024</td> <th>  Prob (F-statistic):</th>           <td>  0.00</td>  \n",
       "</tr>\n",
       "<tr>\n",
       "  <th>Time:</th>                 <td>01:16:15</td>     <th>  Log-Likelihood:    </th>          <td> -2223.5</td> \n",
       "</tr>\n",
       "<tr>\n",
       "  <th>No. Observations:</th>      <td>  1000</td>      <th>  AIC:               </th>          <td>   4547.</td> \n",
       "</tr>\n",
       "<tr>\n",
       "  <th>Df Residuals:</th>          <td>   950</td>      <th>  BIC:               </th>          <td>   4792.</td> \n",
       "</tr>\n",
       "<tr>\n",
       "  <th>Df Model:</th>              <td>    50</td>      <th>                     </th>              <td> </td>    \n",
       "</tr>\n",
       "<tr>\n",
       "  <th>Covariance Type:</th>      <td>nonrobust</td>    <th>                     </th>              <td> </td>    \n",
       "</tr>\n",
       "</table>\n",
       "<table class=\"simpletable\">\n",
       "<tr>\n",
       "   <td></td>      <th>coef</th>     <th>std err</th>      <th>t</th>      <th>P>|t|</th>  <th>[0.025</th>    <th>0.975]</th>  \n",
       "</tr>\n",
       "<tr>\n",
       "  <th>x1</th>  <td>   99.1333</td> <td>    0.077</td> <td> 1291.106</td> <td> 0.000</td> <td>   98.983</td> <td>   99.284</td>\n",
       "</tr>\n",
       "<tr>\n",
       "  <th>x2</th>  <td>  -74.6671</td> <td>    0.074</td> <td>-1007.698</td> <td> 0.000</td> <td>  -74.812</td> <td>  -74.522</td>\n",
       "</tr>\n",
       "<tr>\n",
       "  <th>x3</th>  <td>   25.9822</td> <td>    0.076</td> <td>  344.008</td> <td> 0.000</td> <td>   25.834</td> <td>   26.130</td>\n",
       "</tr>\n",
       "<tr>\n",
       "  <th>x4</th>  <td>  -93.0759</td> <td>    0.072</td> <td>-1292.496</td> <td> 0.000</td> <td>  -93.217</td> <td>  -92.935</td>\n",
       "</tr>\n",
       "<tr>\n",
       "  <th>x5</th>  <td>  -91.7501</td> <td>    0.076</td> <td>-1207.573</td> <td> 0.000</td> <td>  -91.899</td> <td>  -91.601</td>\n",
       "</tr>\n",
       "<tr>\n",
       "  <th>x6</th>  <td>   85.6430</td> <td>    0.071</td> <td> 1201.176</td> <td> 0.000</td> <td>   85.503</td> <td>   85.783</td>\n",
       "</tr>\n",
       "<tr>\n",
       "  <th>x7</th>  <td>   43.0228</td> <td>    0.075</td> <td>  573.652</td> <td> 0.000</td> <td>   42.876</td> <td>   43.170</td>\n",
       "</tr>\n",
       "<tr>\n",
       "  <th>x8</th>  <td>  128.3507</td> <td>    0.077</td> <td> 1670.891</td> <td> 0.000</td> <td>  128.200</td> <td>  128.501</td>\n",
       "</tr>\n",
       "<tr>\n",
       "  <th>x9</th>  <td>   54.9396</td> <td>    0.075</td> <td>  728.197</td> <td> 0.000</td> <td>   54.792</td> <td>   55.088</td>\n",
       "</tr>\n",
       "<tr>\n",
       "  <th>x10</th> <td>  148.3320</td> <td>    0.076</td> <td> 1961.548</td> <td> 0.000</td> <td>  148.184</td> <td>  148.480</td>\n",
       "</tr>\n",
       "<tr>\n",
       "  <th>x11</th> <td>   -1.9380</td> <td>    0.075</td> <td>  -25.719</td> <td> 0.000</td> <td>   -2.086</td> <td>   -1.790</td>\n",
       "</tr>\n",
       "<tr>\n",
       "  <th>x12</th> <td> -131.0019</td> <td>    0.074</td> <td>-1760.327</td> <td> 0.000</td> <td> -131.148</td> <td> -130.856</td>\n",
       "</tr>\n",
       "<tr>\n",
       "  <th>x13</th> <td>   97.4096</td> <td>    0.073</td> <td> 1335.331</td> <td> 0.000</td> <td>   97.266</td> <td>   97.553</td>\n",
       "</tr>\n",
       "<tr>\n",
       "  <th>x14</th> <td>  -71.0417</td> <td>    0.076</td> <td> -928.852</td> <td> 0.000</td> <td>  -71.192</td> <td>  -70.892</td>\n",
       "</tr>\n",
       "<tr>\n",
       "  <th>x15</th> <td> -187.7806</td> <td>    0.073</td> <td>-2572.591</td> <td> 0.000</td> <td> -187.924</td> <td> -187.637</td>\n",
       "</tr>\n",
       "<tr>\n",
       "  <th>x16</th> <td>  -91.2123</td> <td>    0.075</td> <td>-1214.566</td> <td> 0.000</td> <td>  -91.360</td> <td>  -91.065</td>\n",
       "</tr>\n",
       "<tr>\n",
       "  <th>x17</th> <td> -111.6601</td> <td>    0.075</td> <td>-1492.629</td> <td> 0.000</td> <td> -111.807</td> <td> -111.513</td>\n",
       "</tr>\n",
       "<tr>\n",
       "  <th>x18</th> <td>  -48.2266</td> <td>    0.073</td> <td> -656.215</td> <td> 0.000</td> <td>  -48.371</td> <td>  -48.082</td>\n",
       "</tr>\n",
       "<tr>\n",
       "  <th>x19</th> <td>  -70.8125</td> <td>    0.075</td> <td> -946.985</td> <td> 0.000</td> <td>  -70.959</td> <td>  -70.666</td>\n",
       "</tr>\n",
       "<tr>\n",
       "  <th>x20</th> <td>    0.9590</td> <td>    0.076</td> <td>   12.680</td> <td> 0.000</td> <td>    0.811</td> <td>    1.107</td>\n",
       "</tr>\n",
       "<tr>\n",
       "  <th>x21</th> <td>  102.6505</td> <td>    0.074</td> <td> 1394.599</td> <td> 0.000</td> <td>  102.506</td> <td>  102.795</td>\n",
       "</tr>\n",
       "<tr>\n",
       "  <th>x22</th> <td>  -35.3093</td> <td>    0.071</td> <td> -497.120</td> <td> 0.000</td> <td>  -35.449</td> <td>  -35.170</td>\n",
       "</tr>\n",
       "<tr>\n",
       "  <th>x23</th> <td>  -75.5360</td> <td>    0.074</td> <td>-1015.546</td> <td> 0.000</td> <td>  -75.682</td> <td>  -75.390</td>\n",
       "</tr>\n",
       "<tr>\n",
       "  <th>x24</th> <td>  146.3647</td> <td>    0.072</td> <td> 2040.342</td> <td> 0.000</td> <td>  146.224</td> <td>  146.506</td>\n",
       "</tr>\n",
       "<tr>\n",
       "  <th>x25</th> <td> -183.5647</td> <td>    0.077</td> <td>-2378.718</td> <td> 0.000</td> <td> -183.716</td> <td> -183.413</td>\n",
       "</tr>\n",
       "<tr>\n",
       "  <th>x26</th> <td>  -55.1777</td> <td>    0.074</td> <td> -749.979</td> <td> 0.000</td> <td>  -55.322</td> <td>  -55.033</td>\n",
       "</tr>\n",
       "<tr>\n",
       "  <th>x27</th> <td>   96.2994</td> <td>    0.074</td> <td> 1310.114</td> <td> 0.000</td> <td>   96.155</td> <td>   96.444</td>\n",
       "</tr>\n",
       "<tr>\n",
       "  <th>x28</th> <td>  163.0766</td> <td>    0.074</td> <td> 2198.815</td> <td> 0.000</td> <td>  162.931</td> <td>  163.222</td>\n",
       "</tr>\n",
       "<tr>\n",
       "  <th>x29</th> <td>  176.8955</td> <td>    0.072</td> <td> 2464.914</td> <td> 0.000</td> <td>  176.755</td> <td>  177.036</td>\n",
       "</tr>\n",
       "<tr>\n",
       "  <th>x30</th> <td>  103.7608</td> <td>    0.072</td> <td> 1437.074</td> <td> 0.000</td> <td>  103.619</td> <td>  103.903</td>\n",
       "</tr>\n",
       "<tr>\n",
       "  <th>x31</th> <td>  -91.0207</td> <td>    0.069</td> <td>-1327.853</td> <td> 0.000</td> <td>  -91.155</td> <td>  -90.886</td>\n",
       "</tr>\n",
       "<tr>\n",
       "  <th>x32</th> <td>   50.8068</td> <td>    0.072</td> <td>  703.027</td> <td> 0.000</td> <td>   50.665</td> <td>   50.949</td>\n",
       "</tr>\n",
       "<tr>\n",
       "  <th>x33</th> <td> -201.8610</td> <td>    0.074</td> <td>-2740.386</td> <td> 0.000</td> <td> -202.006</td> <td> -201.716</td>\n",
       "</tr>\n",
       "<tr>\n",
       "  <th>x34</th> <td>   35.6872</td> <td>    0.072</td> <td>  493.899</td> <td> 0.000</td> <td>   35.545</td> <td>   35.829</td>\n",
       "</tr>\n",
       "<tr>\n",
       "  <th>x35</th> <td>  110.6008</td> <td>    0.077</td> <td> 1433.082</td> <td> 0.000</td> <td>  110.449</td> <td>  110.752</td>\n",
       "</tr>\n",
       "<tr>\n",
       "  <th>x36</th> <td>   64.3817</td> <td>    0.072</td> <td>  898.620</td> <td> 0.000</td> <td>   64.241</td> <td>   64.522</td>\n",
       "</tr>\n",
       "<tr>\n",
       "  <th>x37</th> <td> -110.3754</td> <td>    0.072</td> <td>-1536.104</td> <td> 0.000</td> <td> -110.516</td> <td> -110.234</td>\n",
       "</tr>\n",
       "<tr>\n",
       "  <th>x38</th> <td> -110.6320</td> <td>    0.072</td> <td>-1532.115</td> <td> 0.000</td> <td> -110.774</td> <td> -110.490</td>\n",
       "</tr>\n",
       "<tr>\n",
       "  <th>x39</th> <td>  212.2263</td> <td>    0.073</td> <td> 2919.735</td> <td> 0.000</td> <td>  212.084</td> <td>  212.369</td>\n",
       "</tr>\n",
       "<tr>\n",
       "  <th>x40</th> <td>  140.0979</td> <td>    0.074</td> <td> 1890.071</td> <td> 0.000</td> <td>  139.952</td> <td>  140.243</td>\n",
       "</tr>\n",
       "<tr>\n",
       "  <th>x41</th> <td>  118.5134</td> <td>    0.077</td> <td> 1540.731</td> <td> 0.000</td> <td>  118.362</td> <td>  118.664</td>\n",
       "</tr>\n",
       "<tr>\n",
       "  <th>x42</th> <td> -124.2522</td> <td>    0.071</td> <td>-1751.304</td> <td> 0.000</td> <td> -124.391</td> <td> -124.113</td>\n",
       "</tr>\n",
       "<tr>\n",
       "  <th>x43</th> <td> -112.7569</td> <td>    0.071</td> <td>-1580.791</td> <td> 0.000</td> <td> -112.897</td> <td> -112.617</td>\n",
       "</tr>\n",
       "<tr>\n",
       "  <th>x44</th> <td>   57.5970</td> <td>    0.072</td> <td>  795.078</td> <td> 0.000</td> <td>   57.455</td> <td>   57.739</td>\n",
       "</tr>\n",
       "<tr>\n",
       "  <th>x45</th> <td>  -68.7780</td> <td>    0.074</td> <td> -930.203</td> <td> 0.000</td> <td>  -68.923</td> <td>  -68.633</td>\n",
       "</tr>\n",
       "<tr>\n",
       "  <th>x46</th> <td>  -96.5053</td> <td>    0.073</td> <td>-1316.944</td> <td> 0.000</td> <td>  -96.649</td> <td>  -96.361</td>\n",
       "</tr>\n",
       "<tr>\n",
       "  <th>x47</th> <td>   73.2721</td> <td>    0.073</td> <td>  998.965</td> <td> 0.000</td> <td>   73.128</td> <td>   73.416</td>\n",
       "</tr>\n",
       "<tr>\n",
       "  <th>x48</th> <td>   93.6564</td> <td>    0.073</td> <td> 1277.588</td> <td> 0.000</td> <td>   93.513</td> <td>   93.800</td>\n",
       "</tr>\n",
       "<tr>\n",
       "  <th>x49</th> <td> -138.9712</td> <td>    0.073</td> <td>-1896.442</td> <td> 0.000</td> <td> -139.115</td> <td> -138.827</td>\n",
       "</tr>\n",
       "<tr>\n",
       "  <th>x50</th> <td> -132.4346</td> <td>    0.074</td> <td>-1790.098</td> <td> 0.000</td> <td> -132.580</td> <td> -132.289</td>\n",
       "</tr>\n",
       "</table>\n",
       "<table class=\"simpletable\">\n",
       "<tr>\n",
       "  <th>Omnibus:</th>       <td> 1.961</td> <th>  Durbin-Watson:     </th> <td>   1.235</td>\n",
       "</tr>\n",
       "<tr>\n",
       "  <th>Prob(Omnibus):</th> <td> 0.375</td> <th>  Jarque-Bera (JB):  </th> <td>   1.835</td>\n",
       "</tr>\n",
       "<tr>\n",
       "  <th>Skew:</th>          <td>-0.098</td> <th>  Prob(JB):          </th> <td>   0.399</td>\n",
       "</tr>\n",
       "<tr>\n",
       "  <th>Kurtosis:</th>      <td> 3.076</td> <th>  Cond. No.          </th> <td>    7.29</td>\n",
       "</tr>\n",
       "</table><br/><br/>Notes:<br/>[1] R² is computed without centering (uncentered) since the model does not contain a constant.<br/>[2] Standard Errors assume that the covariance matrix of the errors is correctly specified."
      ],
      "text/latex": [
       "\\begin{center}\n",
       "\\begin{tabular}{lclc}\n",
       "\\toprule\n",
       "\\textbf{Dep. Variable:}    &        y         & \\textbf{  R-squared (uncentered):}      &     1.000   \\\\\n",
       "\\textbf{Model:}            &       OLS        & \\textbf{  Adj. R-squared (uncentered):} &     1.000   \\\\\n",
       "\\textbf{Method:}           &  Least Squares   & \\textbf{  F-statistic:       }          & 3.903e+06   \\\\\n",
       "\\textbf{Date:}             & Thu, 19 Sep 2024 & \\textbf{  Prob (F-statistic):}          &     0.00    \\\\\n",
       "\\textbf{Time:}             &     01:16:15     & \\textbf{  Log-Likelihood:    }          &   -2223.5   \\\\\n",
       "\\textbf{No. Observations:} &        1000      & \\textbf{  AIC:               }          &     4547.   \\\\\n",
       "\\textbf{Df Residuals:}     &         950      & \\textbf{  BIC:               }          &     4792.   \\\\\n",
       "\\textbf{Df Model:}         &          50      & \\textbf{                     }          &             \\\\\n",
       "\\textbf{Covariance Type:}  &    nonrobust     & \\textbf{                     }          &             \\\\\n",
       "\\bottomrule\n",
       "\\end{tabular}\n",
       "\\begin{tabular}{lcccccc}\n",
       "             & \\textbf{coef} & \\textbf{std err} & \\textbf{t} & \\textbf{P$> |$t$|$} & \\textbf{[0.025} & \\textbf{0.975]}  \\\\\n",
       "\\midrule\n",
       "\\textbf{x1}  &      99.1333  &        0.077     &  1291.106  &         0.000        &       98.983    &       99.284     \\\\\n",
       "\\textbf{x2}  &     -74.6671  &        0.074     & -1007.698  &         0.000        &      -74.812    &      -74.522     \\\\\n",
       "\\textbf{x3}  &      25.9822  &        0.076     &   344.008  &         0.000        &       25.834    &       26.130     \\\\\n",
       "\\textbf{x4}  &     -93.0759  &        0.072     & -1292.496  &         0.000        &      -93.217    &      -92.935     \\\\\n",
       "\\textbf{x5}  &     -91.7501  &        0.076     & -1207.573  &         0.000        &      -91.899    &      -91.601     \\\\\n",
       "\\textbf{x6}  &      85.6430  &        0.071     &  1201.176  &         0.000        &       85.503    &       85.783     \\\\\n",
       "\\textbf{x7}  &      43.0228  &        0.075     &   573.652  &         0.000        &       42.876    &       43.170     \\\\\n",
       "\\textbf{x8}  &     128.3507  &        0.077     &  1670.891  &         0.000        &      128.200    &      128.501     \\\\\n",
       "\\textbf{x9}  &      54.9396  &        0.075     &   728.197  &         0.000        &       54.792    &       55.088     \\\\\n",
       "\\textbf{x10} &     148.3320  &        0.076     &  1961.548  &         0.000        &      148.184    &      148.480     \\\\\n",
       "\\textbf{x11} &      -1.9380  &        0.075     &   -25.719  &         0.000        &       -2.086    &       -1.790     \\\\\n",
       "\\textbf{x12} &    -131.0019  &        0.074     & -1760.327  &         0.000        &     -131.148    &     -130.856     \\\\\n",
       "\\textbf{x13} &      97.4096  &        0.073     &  1335.331  &         0.000        &       97.266    &       97.553     \\\\\n",
       "\\textbf{x14} &     -71.0417  &        0.076     &  -928.852  &         0.000        &      -71.192    &      -70.892     \\\\\n",
       "\\textbf{x15} &    -187.7806  &        0.073     & -2572.591  &         0.000        &     -187.924    &     -187.637     \\\\\n",
       "\\textbf{x16} &     -91.2123  &        0.075     & -1214.566  &         0.000        &      -91.360    &      -91.065     \\\\\n",
       "\\textbf{x17} &    -111.6601  &        0.075     & -1492.629  &         0.000        &     -111.807    &     -111.513     \\\\\n",
       "\\textbf{x18} &     -48.2266  &        0.073     &  -656.215  &         0.000        &      -48.371    &      -48.082     \\\\\n",
       "\\textbf{x19} &     -70.8125  &        0.075     &  -946.985  &         0.000        &      -70.959    &      -70.666     \\\\\n",
       "\\textbf{x20} &       0.9590  &        0.076     &    12.680  &         0.000        &        0.811    &        1.107     \\\\\n",
       "\\textbf{x21} &     102.6505  &        0.074     &  1394.599  &         0.000        &      102.506    &      102.795     \\\\\n",
       "\\textbf{x22} &     -35.3093  &        0.071     &  -497.120  &         0.000        &      -35.449    &      -35.170     \\\\\n",
       "\\textbf{x23} &     -75.5360  &        0.074     & -1015.546  &         0.000        &      -75.682    &      -75.390     \\\\\n",
       "\\textbf{x24} &     146.3647  &        0.072     &  2040.342  &         0.000        &      146.224    &      146.506     \\\\\n",
       "\\textbf{x25} &    -183.5647  &        0.077     & -2378.718  &         0.000        &     -183.716    &     -183.413     \\\\\n",
       "\\textbf{x26} &     -55.1777  &        0.074     &  -749.979  &         0.000        &      -55.322    &      -55.033     \\\\\n",
       "\\textbf{x27} &      96.2994  &        0.074     &  1310.114  &         0.000        &       96.155    &       96.444     \\\\\n",
       "\\textbf{x28} &     163.0766  &        0.074     &  2198.815  &         0.000        &      162.931    &      163.222     \\\\\n",
       "\\textbf{x29} &     176.8955  &        0.072     &  2464.914  &         0.000        &      176.755    &      177.036     \\\\\n",
       "\\textbf{x30} &     103.7608  &        0.072     &  1437.074  &         0.000        &      103.619    &      103.903     \\\\\n",
       "\\textbf{x31} &     -91.0207  &        0.069     & -1327.853  &         0.000        &      -91.155    &      -90.886     \\\\\n",
       "\\textbf{x32} &      50.8068  &        0.072     &   703.027  &         0.000        &       50.665    &       50.949     \\\\\n",
       "\\textbf{x33} &    -201.8610  &        0.074     & -2740.386  &         0.000        &     -202.006    &     -201.716     \\\\\n",
       "\\textbf{x34} &      35.6872  &        0.072     &   493.899  &         0.000        &       35.545    &       35.829     \\\\\n",
       "\\textbf{x35} &     110.6008  &        0.077     &  1433.082  &         0.000        &      110.449    &      110.752     \\\\\n",
       "\\textbf{x36} &      64.3817  &        0.072     &   898.620  &         0.000        &       64.241    &       64.522     \\\\\n",
       "\\textbf{x37} &    -110.3754  &        0.072     & -1536.104  &         0.000        &     -110.516    &     -110.234     \\\\\n",
       "\\textbf{x38} &    -110.6320  &        0.072     & -1532.115  &         0.000        &     -110.774    &     -110.490     \\\\\n",
       "\\textbf{x39} &     212.2263  &        0.073     &  2919.735  &         0.000        &      212.084    &      212.369     \\\\\n",
       "\\textbf{x40} &     140.0979  &        0.074     &  1890.071  &         0.000        &      139.952    &      140.243     \\\\\n",
       "\\textbf{x41} &     118.5134  &        0.077     &  1540.731  &         0.000        &      118.362    &      118.664     \\\\\n",
       "\\textbf{x42} &    -124.2522  &        0.071     & -1751.304  &         0.000        &     -124.391    &     -124.113     \\\\\n",
       "\\textbf{x43} &    -112.7569  &        0.071     & -1580.791  &         0.000        &     -112.897    &     -112.617     \\\\\n",
       "\\textbf{x44} &      57.5970  &        0.072     &   795.078  &         0.000        &       57.455    &       57.739     \\\\\n",
       "\\textbf{x45} &     -68.7780  &        0.074     &  -930.203  &         0.000        &      -68.923    &      -68.633     \\\\\n",
       "\\textbf{x46} &     -96.5053  &        0.073     & -1316.944  &         0.000        &      -96.649    &      -96.361     \\\\\n",
       "\\textbf{x47} &      73.2721  &        0.073     &   998.965  &         0.000        &       73.128    &       73.416     \\\\\n",
       "\\textbf{x48} &      93.6564  &        0.073     &  1277.588  &         0.000        &       93.513    &       93.800     \\\\\n",
       "\\textbf{x49} &    -138.9712  &        0.073     & -1896.442  &         0.000        &     -139.115    &     -138.827     \\\\\n",
       "\\textbf{x50} &    -132.4346  &        0.074     & -1790.098  &         0.000        &     -132.580    &     -132.289     \\\\\n",
       "\\bottomrule\n",
       "\\end{tabular}\n",
       "\\begin{tabular}{lclc}\n",
       "\\textbf{Omnibus:}       &  1.961 & \\textbf{  Durbin-Watson:     } &    1.235  \\\\\n",
       "\\textbf{Prob(Omnibus):} &  0.375 & \\textbf{  Jarque-Bera (JB):  } &    1.835  \\\\\n",
       "\\textbf{Skew:}          & -0.098 & \\textbf{  Prob(JB):          } &    0.399  \\\\\n",
       "\\textbf{Kurtosis:}      &  3.076 & \\textbf{  Cond. No.          } &     7.29  \\\\\n",
       "\\bottomrule\n",
       "\\end{tabular}\n",
       "%\\caption{OLS Regression Results}\n",
       "\\end{center}\n",
       "\n",
       "Notes: \\newline\n",
       " [1] R² is computed without centering (uncentered) since the model does not contain a constant. \\newline\n",
       " [2] Standard Errors assume that the covariance matrix of the errors is correctly specified."
      ],
      "text/plain": [
       "<class 'statsmodels.iolib.summary.Summary'>\n",
       "\"\"\"\n",
       "                                 OLS Regression Results                                \n",
       "=======================================================================================\n",
       "Dep. Variable:                      y   R-squared (uncentered):                   1.000\n",
       "Model:                            OLS   Adj. R-squared (uncentered):              1.000\n",
       "Method:                 Least Squares   F-statistic:                          3.903e+06\n",
       "Date:                Thu, 19 Sep 2024   Prob (F-statistic):                        0.00\n",
       "Time:                        01:16:15   Log-Likelihood:                         -2223.5\n",
       "No. Observations:                1000   AIC:                                      4547.\n",
       "Df Residuals:                     950   BIC:                                      4792.\n",
       "Df Model:                          50                                                  \n",
       "Covariance Type:            nonrobust                                                  \n",
       "==============================================================================\n",
       "                 coef    std err          t      P>|t|      [0.025      0.975]\n",
       "------------------------------------------------------------------------------\n",
       "x1            99.1333      0.077   1291.106      0.000      98.983      99.284\n",
       "x2           -74.6671      0.074  -1007.698      0.000     -74.812     -74.522\n",
       "x3            25.9822      0.076    344.008      0.000      25.834      26.130\n",
       "x4           -93.0759      0.072  -1292.496      0.000     -93.217     -92.935\n",
       "x5           -91.7501      0.076  -1207.573      0.000     -91.899     -91.601\n",
       "x6            85.6430      0.071   1201.176      0.000      85.503      85.783\n",
       "x7            43.0228      0.075    573.652      0.000      42.876      43.170\n",
       "x8           128.3507      0.077   1670.891      0.000     128.200     128.501\n",
       "x9            54.9396      0.075    728.197      0.000      54.792      55.088\n",
       "x10          148.3320      0.076   1961.548      0.000     148.184     148.480\n",
       "x11           -1.9380      0.075    -25.719      0.000      -2.086      -1.790\n",
       "x12         -131.0019      0.074  -1760.327      0.000    -131.148    -130.856\n",
       "x13           97.4096      0.073   1335.331      0.000      97.266      97.553\n",
       "x14          -71.0417      0.076   -928.852      0.000     -71.192     -70.892\n",
       "x15         -187.7806      0.073  -2572.591      0.000    -187.924    -187.637\n",
       "x16          -91.2123      0.075  -1214.566      0.000     -91.360     -91.065\n",
       "x17         -111.6601      0.075  -1492.629      0.000    -111.807    -111.513\n",
       "x18          -48.2266      0.073   -656.215      0.000     -48.371     -48.082\n",
       "x19          -70.8125      0.075   -946.985      0.000     -70.959     -70.666\n",
       "x20            0.9590      0.076     12.680      0.000       0.811       1.107\n",
       "x21          102.6505      0.074   1394.599      0.000     102.506     102.795\n",
       "x22          -35.3093      0.071   -497.120      0.000     -35.449     -35.170\n",
       "x23          -75.5360      0.074  -1015.546      0.000     -75.682     -75.390\n",
       "x24          146.3647      0.072   2040.342      0.000     146.224     146.506\n",
       "x25         -183.5647      0.077  -2378.718      0.000    -183.716    -183.413\n",
       "x26          -55.1777      0.074   -749.979      0.000     -55.322     -55.033\n",
       "x27           96.2994      0.074   1310.114      0.000      96.155      96.444\n",
       "x28          163.0766      0.074   2198.815      0.000     162.931     163.222\n",
       "x29          176.8955      0.072   2464.914      0.000     176.755     177.036\n",
       "x30          103.7608      0.072   1437.074      0.000     103.619     103.903\n",
       "x31          -91.0207      0.069  -1327.853      0.000     -91.155     -90.886\n",
       "x32           50.8068      0.072    703.027      0.000      50.665      50.949\n",
       "x33         -201.8610      0.074  -2740.386      0.000    -202.006    -201.716\n",
       "x34           35.6872      0.072    493.899      0.000      35.545      35.829\n",
       "x35          110.6008      0.077   1433.082      0.000     110.449     110.752\n",
       "x36           64.3817      0.072    898.620      0.000      64.241      64.522\n",
       "x37         -110.3754      0.072  -1536.104      0.000    -110.516    -110.234\n",
       "x38         -110.6320      0.072  -1532.115      0.000    -110.774    -110.490\n",
       "x39          212.2263      0.073   2919.735      0.000     212.084     212.369\n",
       "x40          140.0979      0.074   1890.071      0.000     139.952     140.243\n",
       "x41          118.5134      0.077   1540.731      0.000     118.362     118.664\n",
       "x42         -124.2522      0.071  -1751.304      0.000    -124.391    -124.113\n",
       "x43         -112.7569      0.071  -1580.791      0.000    -112.897    -112.617\n",
       "x44           57.5970      0.072    795.078      0.000      57.455      57.739\n",
       "x45          -68.7780      0.074   -930.203      0.000     -68.923     -68.633\n",
       "x46          -96.5053      0.073  -1316.944      0.000     -96.649     -96.361\n",
       "x47           73.2721      0.073    998.965      0.000      73.128      73.416\n",
       "x48           93.6564      0.073   1277.588      0.000      93.513      93.800\n",
       "x49         -138.9712      0.073  -1896.442      0.000    -139.115    -138.827\n",
       "x50         -132.4346      0.074  -1790.098      0.000    -132.580    -132.289\n",
       "==============================================================================\n",
       "Omnibus:                        1.961   Durbin-Watson:                   1.235\n",
       "Prob(Omnibus):                  0.375   Jarque-Bera (JB):                1.835\n",
       "Skew:                          -0.098   Prob(JB):                        0.399\n",
       "Kurtosis:                       3.076   Cond. No.                         7.29\n",
       "==============================================================================\n",
       "\n",
       "Notes:\n",
       "[1] R² is computed without centering (uncentered) since the model does not contain a constant.\n",
       "[2] Standard Errors assume that the covariance matrix of the errors is correctly specified.\n",
       "\"\"\""
      ]
     },
     "execution_count": 25,
     "metadata": {},
     "output_type": "execute_result"
    }
   ],
   "source": [
    "sma.OLS(dg.Y, dg.true_X).fit().summary()"
   ]
  },
  {
   "cell_type": "code",
   "execution_count": 26,
   "id": "f869b07d-35d2-4700-8d2c-46a6862c4265",
   "metadata": {},
   "outputs": [
    {
     "data": {
      "text/html": [
       "<table class=\"simpletable\">\n",
       "<caption>OLS Regression Results</caption>\n",
       "<tr>\n",
       "  <th>Dep. Variable:</th>            <td>y</td>        <th>  R-squared (uncentered):</th>      <td>   0.647</td> \n",
       "</tr>\n",
       "<tr>\n",
       "  <th>Model:</th>                   <td>OLS</td>       <th>  Adj. R-squared (uncentered):</th> <td>   0.627</td> \n",
       "</tr>\n",
       "<tr>\n",
       "  <th>Method:</th>             <td>Least Squares</td>  <th>  F-statistic:       </th>          <td>   31.55</td> \n",
       "</tr>\n",
       "<tr>\n",
       "  <th>Date:</th>             <td>Thu, 19 Sep 2024</td> <th>  Prob (F-statistic):</th>          <td>9.57e-176</td>\n",
       "</tr>\n",
       "<tr>\n",
       "  <th>Time:</th>                 <td>01:16:16</td>     <th>  Log-Likelihood:    </th>          <td> -7818.7</td> \n",
       "</tr>\n",
       "<tr>\n",
       "  <th>No. Observations:</th>      <td>  1000</td>      <th>  AIC:               </th>          <td>1.575e+04</td>\n",
       "</tr>\n",
       "<tr>\n",
       "  <th>Df Residuals:</th>          <td>   945</td>      <th>  BIC:               </th>          <td>1.602e+04</td>\n",
       "</tr>\n",
       "<tr>\n",
       "  <th>Df Model:</th>              <td>    55</td>      <th>                     </th>              <td> </td>    \n",
       "</tr>\n",
       "<tr>\n",
       "  <th>Covariance Type:</th>      <td>nonrobust</td>    <th>                     </th>              <td> </td>    \n",
       "</tr>\n",
       "</table>\n",
       "<table class=\"simpletable\">\n",
       "<tr>\n",
       "   <td></td>      <th>coef</th>     <th>std err</th>      <th>t</th>      <th>P>|t|</th>  <th>[0.025</th>    <th>0.975]</th>  \n",
       "</tr>\n",
       "<tr>\n",
       "  <th>x1</th>  <td>   57.3658</td> <td>   14.154</td> <td>    4.053</td> <td> 0.000</td> <td>   29.589</td> <td>   85.143</td>\n",
       "</tr>\n",
       "<tr>\n",
       "  <th>x2</th>  <td>  -40.6803</td> <td>   13.641</td> <td>   -2.982</td> <td> 0.003</td> <td>  -67.450</td> <td>  -13.911</td>\n",
       "</tr>\n",
       "<tr>\n",
       "  <th>x3</th>  <td>  -13.2657</td> <td>   14.287</td> <td>   -0.928</td> <td> 0.353</td> <td>  -41.304</td> <td>   14.773</td>\n",
       "</tr>\n",
       "<tr>\n",
       "  <th>x4</th>  <td>  -49.5758</td> <td>   13.057</td> <td>   -3.797</td> <td> 0.000</td> <td>  -75.200</td> <td>  -23.951</td>\n",
       "</tr>\n",
       "<tr>\n",
       "  <th>x5</th>  <td>  -36.3984</td> <td>   14.723</td> <td>   -2.472</td> <td> 0.014</td> <td>  -65.292</td> <td>   -7.504</td>\n",
       "</tr>\n",
       "<tr>\n",
       "  <th>x6</th>  <td>    8.1824</td> <td>    8.344</td> <td>    0.981</td> <td> 0.327</td> <td>   -8.192</td> <td>   24.557</td>\n",
       "</tr>\n",
       "<tr>\n",
       "  <th>x7</th>  <td>   43.0134</td> <td>   12.999</td> <td>    3.309</td> <td> 0.001</td> <td>   17.503</td> <td>   68.524</td>\n",
       "</tr>\n",
       "<tr>\n",
       "  <th>x8</th>  <td>   49.9383</td> <td>   14.230</td> <td>    3.509</td> <td> 0.000</td> <td>   22.012</td> <td>   77.865</td>\n",
       "</tr>\n",
       "<tr>\n",
       "  <th>x9</th>  <td>   53.3374</td> <td>   13.869</td> <td>    3.846</td> <td> 0.000</td> <td>   26.119</td> <td>   80.556</td>\n",
       "</tr>\n",
       "<tr>\n",
       "  <th>x10</th> <td>   60.7308</td> <td>   14.259</td> <td>    4.259</td> <td> 0.000</td> <td>   32.748</td> <td>   88.714</td>\n",
       "</tr>\n",
       "<tr>\n",
       "  <th>x11</th> <td>   11.5816</td> <td>   14.121</td> <td>    0.820</td> <td> 0.412</td> <td>  -16.131</td> <td>   39.295</td>\n",
       "</tr>\n",
       "<tr>\n",
       "  <th>x12</th> <td>  -72.2129</td> <td>   13.922</td> <td>   -5.187</td> <td> 0.000</td> <td>  -99.535</td> <td>  -44.891</td>\n",
       "</tr>\n",
       "<tr>\n",
       "  <th>x13</th> <td>    9.2275</td> <td>    9.431</td> <td>    0.978</td> <td> 0.328</td> <td>   -9.280</td> <td>   27.735</td>\n",
       "</tr>\n",
       "<tr>\n",
       "  <th>x14</th> <td>  -61.2858</td> <td>   13.951</td> <td>   -4.393</td> <td> 0.000</td> <td>  -88.664</td> <td>  -33.908</td>\n",
       "</tr>\n",
       "<tr>\n",
       "  <th>x15</th> <td>  -81.2832</td> <td>   13.622</td> <td>   -5.967</td> <td> 0.000</td> <td> -108.015</td> <td>  -54.551</td>\n",
       "</tr>\n",
       "<tr>\n",
       "  <th>x16</th> <td>  -29.5028</td> <td>   12.774</td> <td>   -2.310</td> <td> 0.021</td> <td>  -54.571</td> <td>   -4.434</td>\n",
       "</tr>\n",
       "<tr>\n",
       "  <th>x17</th> <td>  -25.4860</td> <td>   11.380</td> <td>   -2.240</td> <td> 0.025</td> <td>  -47.818</td> <td>   -3.154</td>\n",
       "</tr>\n",
       "<tr>\n",
       "  <th>x18</th> <td>  -35.4951</td> <td>   13.934</td> <td>   -2.547</td> <td> 0.011</td> <td>  -62.841</td> <td>   -8.149</td>\n",
       "</tr>\n",
       "<tr>\n",
       "  <th>x19</th> <td>  -50.2376</td> <td>   13.457</td> <td>   -3.733</td> <td> 0.000</td> <td>  -76.646</td> <td>  -23.829</td>\n",
       "</tr>\n",
       "<tr>\n",
       "  <th>x20</th> <td>   36.3409</td> <td>   13.876</td> <td>    2.619</td> <td> 0.009</td> <td>    9.109</td> <td>   63.573</td>\n",
       "</tr>\n",
       "<tr>\n",
       "  <th>x21</th> <td>   66.8919</td> <td>   13.262</td> <td>    5.044</td> <td> 0.000</td> <td>   40.866</td> <td>   92.918</td>\n",
       "</tr>\n",
       "<tr>\n",
       "  <th>x22</th> <td>  -35.8992</td> <td>   13.355</td> <td>   -2.688</td> <td> 0.007</td> <td>  -62.109</td> <td>   -9.690</td>\n",
       "</tr>\n",
       "<tr>\n",
       "  <th>x23</th> <td>  -46.5315</td> <td>   14.693</td> <td>   -3.167</td> <td> 0.002</td> <td>  -75.365</td> <td>  -17.698</td>\n",
       "</tr>\n",
       "<tr>\n",
       "  <th>x24</th> <td>   55.0520</td> <td>   12.972</td> <td>    4.244</td> <td> 0.000</td> <td>   29.596</td> <td>   80.509</td>\n",
       "</tr>\n",
       "<tr>\n",
       "  <th>x25</th> <td>  -59.0304</td> <td>   12.973</td> <td>   -4.550</td> <td> 0.000</td> <td>  -84.490</td> <td>  -33.570</td>\n",
       "</tr>\n",
       "<tr>\n",
       "  <th>x26</th> <td>  -32.4626</td> <td>   13.478</td> <td>   -2.409</td> <td> 0.016</td> <td>  -58.913</td> <td>   -6.012</td>\n",
       "</tr>\n",
       "<tr>\n",
       "  <th>x27</th> <td>   44.5868</td> <td>   11.361</td> <td>    3.925</td> <td> 0.000</td> <td>   22.291</td> <td>   66.883</td>\n",
       "</tr>\n",
       "<tr>\n",
       "  <th>x28</th> <td>   28.7415</td> <td>   11.932</td> <td>    2.409</td> <td> 0.016</td> <td>    5.326</td> <td>   52.157</td>\n",
       "</tr>\n",
       "<tr>\n",
       "  <th>x29</th> <td>   65.3967</td> <td>    9.011</td> <td>    7.258</td> <td> 0.000</td> <td>   47.714</td> <td>   83.080</td>\n",
       "</tr>\n",
       "<tr>\n",
       "  <th>x30</th> <td>   49.8855</td> <td>   10.318</td> <td>    4.835</td> <td> 0.000</td> <td>   29.636</td> <td>   70.135</td>\n",
       "</tr>\n",
       "<tr>\n",
       "  <th>x31</th> <td>   12.7012</td> <td>    8.667</td> <td>    1.466</td> <td> 0.143</td> <td>   -4.307</td> <td>   29.709</td>\n",
       "</tr>\n",
       "<tr>\n",
       "  <th>x32</th> <td>   43.5694</td> <td>   13.586</td> <td>    3.207</td> <td> 0.001</td> <td>   16.907</td> <td>   70.232</td>\n",
       "</tr>\n",
       "<tr>\n",
       "  <th>x33</th> <td>  -98.3685</td> <td>   13.835</td> <td>   -7.110</td> <td> 0.000</td> <td> -125.520</td> <td>  -71.217</td>\n",
       "</tr>\n",
       "<tr>\n",
       "  <th>x34</th> <td>   17.7366</td> <td>   12.047</td> <td>    1.472</td> <td> 0.141</td> <td>   -5.906</td> <td>   41.380</td>\n",
       "</tr>\n",
       "<tr>\n",
       "  <th>x35</th> <td>   67.6167</td> <td>   14.709</td> <td>    4.597</td> <td> 0.000</td> <td>   38.751</td> <td>   96.482</td>\n",
       "</tr>\n",
       "<tr>\n",
       "  <th>x36</th> <td>   37.8872</td> <td>   13.275</td> <td>    2.854</td> <td> 0.004</td> <td>   11.835</td> <td>   63.940</td>\n",
       "</tr>\n",
       "<tr>\n",
       "  <th>x37</th> <td>  -25.5192</td> <td>    9.484</td> <td>   -2.691</td> <td> 0.007</td> <td>  -44.131</td> <td>   -6.907</td>\n",
       "</tr>\n",
       "<tr>\n",
       "  <th>x38</th> <td>  -56.3583</td> <td>   12.891</td> <td>   -4.372</td> <td> 0.000</td> <td>  -81.656</td> <td>  -31.061</td>\n",
       "</tr>\n",
       "<tr>\n",
       "  <th>x39</th> <td>   93.6957</td> <td>   12.498</td> <td>    7.497</td> <td> 0.000</td> <td>   69.168</td> <td>  118.224</td>\n",
       "</tr>\n",
       "<tr>\n",
       "  <th>x40</th> <td>   47.4661</td> <td>   12.961</td> <td>    3.662</td> <td> 0.000</td> <td>   22.031</td> <td>   72.901</td>\n",
       "</tr>\n",
       "<tr>\n",
       "  <th>x41</th> <td>   52.7171</td> <td>   13.899</td> <td>    3.793</td> <td> 0.000</td> <td>   25.441</td> <td>   79.993</td>\n",
       "</tr>\n",
       "<tr>\n",
       "  <th>x42</th> <td>  -47.6091</td> <td>   12.650</td> <td>   -3.764</td> <td> 0.000</td> <td>  -72.434</td> <td>  -22.784</td>\n",
       "</tr>\n",
       "<tr>\n",
       "  <th>x43</th> <td>   -7.2150</td> <td>    9.090</td> <td>   -0.794</td> <td> 0.428</td> <td>  -25.053</td> <td>   10.623</td>\n",
       "</tr>\n",
       "<tr>\n",
       "  <th>x44</th> <td>   31.6791</td> <td>   12.464</td> <td>    2.542</td> <td> 0.011</td> <td>    7.219</td> <td>   56.139</td>\n",
       "</tr>\n",
       "<tr>\n",
       "  <th>x45</th> <td>  -16.9206</td> <td>   10.975</td> <td>   -1.542</td> <td> 0.123</td> <td>  -38.459</td> <td>    4.618</td>\n",
       "</tr>\n",
       "<tr>\n",
       "  <th>x46</th> <td>  -57.9388</td> <td>   10.904</td> <td>   -5.313</td> <td> 0.000</td> <td>  -79.339</td> <td>  -36.539</td>\n",
       "</tr>\n",
       "<tr>\n",
       "  <th>x47</th> <td>   31.1459</td> <td>    9.968</td> <td>    3.125</td> <td> 0.002</td> <td>   11.584</td> <td>   50.708</td>\n",
       "</tr>\n",
       "<tr>\n",
       "  <th>x48</th> <td>   46.7472</td> <td>   13.328</td> <td>    3.507</td> <td> 0.000</td> <td>   20.591</td> <td>   72.904</td>\n",
       "</tr>\n",
       "<tr>\n",
       "  <th>x49</th> <td>  -74.3706</td> <td>   13.475</td> <td>   -5.519</td> <td> 0.000</td> <td> -100.816</td> <td>  -47.926</td>\n",
       "</tr>\n",
       "<tr>\n",
       "  <th>x50</th> <td>  -52.9162</td> <td>   10.792</td> <td>   -4.904</td> <td> 0.000</td> <td>  -74.094</td> <td>  -31.738</td>\n",
       "</tr>\n",
       "<tr>\n",
       "  <th>x51</th> <td>   44.8050</td> <td>   19.712</td> <td>    2.273</td> <td> 0.023</td> <td>    6.121</td> <td>   83.489</td>\n",
       "</tr>\n",
       "<tr>\n",
       "  <th>x52</th> <td>   28.7541</td> <td>   20.848</td> <td>    1.379</td> <td> 0.168</td> <td>  -12.159</td> <td>   69.667</td>\n",
       "</tr>\n",
       "<tr>\n",
       "  <th>x53</th> <td>  -28.8236</td> <td>   19.292</td> <td>   -1.494</td> <td> 0.135</td> <td>  -66.683</td> <td>    9.036</td>\n",
       "</tr>\n",
       "<tr>\n",
       "  <th>x54</th> <td>   57.1077</td> <td>   23.736</td> <td>    2.406</td> <td> 0.016</td> <td>   10.526</td> <td>  103.690</td>\n",
       "</tr>\n",
       "<tr>\n",
       "  <th>x55</th> <td>   -9.1223</td> <td>   11.985</td> <td>   -0.761</td> <td> 0.447</td> <td>  -32.642</td> <td>   14.397</td>\n",
       "</tr>\n",
       "</table>\n",
       "<table class=\"simpletable\">\n",
       "<tr>\n",
       "  <th>Omnibus:</th>       <td> 0.895</td> <th>  Durbin-Watson:     </th> <td>   2.010</td>\n",
       "</tr>\n",
       "<tr>\n",
       "  <th>Prob(Omnibus):</th> <td> 0.639</td> <th>  Jarque-Bera (JB):  </th> <td>   0.839</td>\n",
       "</tr>\n",
       "<tr>\n",
       "  <th>Skew:</th>          <td>-0.070</td> <th>  Prob(JB):          </th> <td>   0.657</td>\n",
       "</tr>\n",
       "<tr>\n",
       "  <th>Kurtosis:</th>      <td> 3.023</td> <th>  Cond. No.          </th> <td>    8.06</td>\n",
       "</tr>\n",
       "</table><br/><br/>Notes:<br/>[1] R² is computed without centering (uncentered) since the model does not contain a constant.<br/>[2] Standard Errors assume that the covariance matrix of the errors is correctly specified."
      ],
      "text/latex": [
       "\\begin{center}\n",
       "\\begin{tabular}{lclc}\n",
       "\\toprule\n",
       "\\textbf{Dep. Variable:}    &        y         & \\textbf{  R-squared (uncentered):}      &     0.647   \\\\\n",
       "\\textbf{Model:}            &       OLS        & \\textbf{  Adj. R-squared (uncentered):} &     0.627   \\\\\n",
       "\\textbf{Method:}           &  Least Squares   & \\textbf{  F-statistic:       }          &     31.55   \\\\\n",
       "\\textbf{Date:}             & Thu, 19 Sep 2024 & \\textbf{  Prob (F-statistic):}          & 9.57e-176   \\\\\n",
       "\\textbf{Time:}             &     01:16:16     & \\textbf{  Log-Likelihood:    }          &   -7818.7   \\\\\n",
       "\\textbf{No. Observations:} &        1000      & \\textbf{  AIC:               }          & 1.575e+04   \\\\\n",
       "\\textbf{Df Residuals:}     &         945      & \\textbf{  BIC:               }          & 1.602e+04   \\\\\n",
       "\\textbf{Df Model:}         &          55      & \\textbf{                     }          &             \\\\\n",
       "\\textbf{Covariance Type:}  &    nonrobust     & \\textbf{                     }          &             \\\\\n",
       "\\bottomrule\n",
       "\\end{tabular}\n",
       "\\begin{tabular}{lcccccc}\n",
       "             & \\textbf{coef} & \\textbf{std err} & \\textbf{t} & \\textbf{P$> |$t$|$} & \\textbf{[0.025} & \\textbf{0.975]}  \\\\\n",
       "\\midrule\n",
       "\\textbf{x1}  &      57.3658  &       14.154     &     4.053  &         0.000        &       29.589    &       85.143     \\\\\n",
       "\\textbf{x2}  &     -40.6803  &       13.641     &    -2.982  &         0.003        &      -67.450    &      -13.911     \\\\\n",
       "\\textbf{x3}  &     -13.2657  &       14.287     &    -0.928  &         0.353        &      -41.304    &       14.773     \\\\\n",
       "\\textbf{x4}  &     -49.5758  &       13.057     &    -3.797  &         0.000        &      -75.200    &      -23.951     \\\\\n",
       "\\textbf{x5}  &     -36.3984  &       14.723     &    -2.472  &         0.014        &      -65.292    &       -7.504     \\\\\n",
       "\\textbf{x6}  &       8.1824  &        8.344     &     0.981  &         0.327        &       -8.192    &       24.557     \\\\\n",
       "\\textbf{x7}  &      43.0134  &       12.999     &     3.309  &         0.001        &       17.503    &       68.524     \\\\\n",
       "\\textbf{x8}  &      49.9383  &       14.230     &     3.509  &         0.000        &       22.012    &       77.865     \\\\\n",
       "\\textbf{x9}  &      53.3374  &       13.869     &     3.846  &         0.000        &       26.119    &       80.556     \\\\\n",
       "\\textbf{x10} &      60.7308  &       14.259     &     4.259  &         0.000        &       32.748    &       88.714     \\\\\n",
       "\\textbf{x11} &      11.5816  &       14.121     &     0.820  &         0.412        &      -16.131    &       39.295     \\\\\n",
       "\\textbf{x12} &     -72.2129  &       13.922     &    -5.187  &         0.000        &      -99.535    &      -44.891     \\\\\n",
       "\\textbf{x13} &       9.2275  &        9.431     &     0.978  &         0.328        &       -9.280    &       27.735     \\\\\n",
       "\\textbf{x14} &     -61.2858  &       13.951     &    -4.393  &         0.000        &      -88.664    &      -33.908     \\\\\n",
       "\\textbf{x15} &     -81.2832  &       13.622     &    -5.967  &         0.000        &     -108.015    &      -54.551     \\\\\n",
       "\\textbf{x16} &     -29.5028  &       12.774     &    -2.310  &         0.021        &      -54.571    &       -4.434     \\\\\n",
       "\\textbf{x17} &     -25.4860  &       11.380     &    -2.240  &         0.025        &      -47.818    &       -3.154     \\\\\n",
       "\\textbf{x18} &     -35.4951  &       13.934     &    -2.547  &         0.011        &      -62.841    &       -8.149     \\\\\n",
       "\\textbf{x19} &     -50.2376  &       13.457     &    -3.733  &         0.000        &      -76.646    &      -23.829     \\\\\n",
       "\\textbf{x20} &      36.3409  &       13.876     &     2.619  &         0.009        &        9.109    &       63.573     \\\\\n",
       "\\textbf{x21} &      66.8919  &       13.262     &     5.044  &         0.000        &       40.866    &       92.918     \\\\\n",
       "\\textbf{x22} &     -35.8992  &       13.355     &    -2.688  &         0.007        &      -62.109    &       -9.690     \\\\\n",
       "\\textbf{x23} &     -46.5315  &       14.693     &    -3.167  &         0.002        &      -75.365    &      -17.698     \\\\\n",
       "\\textbf{x24} &      55.0520  &       12.972     &     4.244  &         0.000        &       29.596    &       80.509     \\\\\n",
       "\\textbf{x25} &     -59.0304  &       12.973     &    -4.550  &         0.000        &      -84.490    &      -33.570     \\\\\n",
       "\\textbf{x26} &     -32.4626  &       13.478     &    -2.409  &         0.016        &      -58.913    &       -6.012     \\\\\n",
       "\\textbf{x27} &      44.5868  &       11.361     &     3.925  &         0.000        &       22.291    &       66.883     \\\\\n",
       "\\textbf{x28} &      28.7415  &       11.932     &     2.409  &         0.016        &        5.326    &       52.157     \\\\\n",
       "\\textbf{x29} &      65.3967  &        9.011     &     7.258  &         0.000        &       47.714    &       83.080     \\\\\n",
       "\\textbf{x30} &      49.8855  &       10.318     &     4.835  &         0.000        &       29.636    &       70.135     \\\\\n",
       "\\textbf{x31} &      12.7012  &        8.667     &     1.466  &         0.143        &       -4.307    &       29.709     \\\\\n",
       "\\textbf{x32} &      43.5694  &       13.586     &     3.207  &         0.001        &       16.907    &       70.232     \\\\\n",
       "\\textbf{x33} &     -98.3685  &       13.835     &    -7.110  &         0.000        &     -125.520    &      -71.217     \\\\\n",
       "\\textbf{x34} &      17.7366  &       12.047     &     1.472  &         0.141        &       -5.906    &       41.380     \\\\\n",
       "\\textbf{x35} &      67.6167  &       14.709     &     4.597  &         0.000        &       38.751    &       96.482     \\\\\n",
       "\\textbf{x36} &      37.8872  &       13.275     &     2.854  &         0.004        &       11.835    &       63.940     \\\\\n",
       "\\textbf{x37} &     -25.5192  &        9.484     &    -2.691  &         0.007        &      -44.131    &       -6.907     \\\\\n",
       "\\textbf{x38} &     -56.3583  &       12.891     &    -4.372  &         0.000        &      -81.656    &      -31.061     \\\\\n",
       "\\textbf{x39} &      93.6957  &       12.498     &     7.497  &         0.000        &       69.168    &      118.224     \\\\\n",
       "\\textbf{x40} &      47.4661  &       12.961     &     3.662  &         0.000        &       22.031    &       72.901     \\\\\n",
       "\\textbf{x41} &      52.7171  &       13.899     &     3.793  &         0.000        &       25.441    &       79.993     \\\\\n",
       "\\textbf{x42} &     -47.6091  &       12.650     &    -3.764  &         0.000        &      -72.434    &      -22.784     \\\\\n",
       "\\textbf{x43} &      -7.2150  &        9.090     &    -0.794  &         0.428        &      -25.053    &       10.623     \\\\\n",
       "\\textbf{x44} &      31.6791  &       12.464     &     2.542  &         0.011        &        7.219    &       56.139     \\\\\n",
       "\\textbf{x45} &     -16.9206  &       10.975     &    -1.542  &         0.123        &      -38.459    &        4.618     \\\\\n",
       "\\textbf{x46} &     -57.9388  &       10.904     &    -5.313  &         0.000        &      -79.339    &      -36.539     \\\\\n",
       "\\textbf{x47} &      31.1459  &        9.968     &     3.125  &         0.002        &       11.584    &       50.708     \\\\\n",
       "\\textbf{x48} &      46.7472  &       13.328     &     3.507  &         0.000        &       20.591    &       72.904     \\\\\n",
       "\\textbf{x49} &     -74.3706  &       13.475     &    -5.519  &         0.000        &     -100.816    &      -47.926     \\\\\n",
       "\\textbf{x50} &     -52.9162  &       10.792     &    -4.904  &         0.000        &      -74.094    &      -31.738     \\\\\n",
       "\\textbf{x51} &      44.8050  &       19.712     &     2.273  &         0.023        &        6.121    &       83.489     \\\\\n",
       "\\textbf{x52} &      28.7541  &       20.848     &     1.379  &         0.168        &      -12.159    &       69.667     \\\\\n",
       "\\textbf{x53} &     -28.8236  &       19.292     &    -1.494  &         0.135        &      -66.683    &        9.036     \\\\\n",
       "\\textbf{x54} &      57.1077  &       23.736     &     2.406  &         0.016        &       10.526    &      103.690     \\\\\n",
       "\\textbf{x55} &      -9.1223  &       11.985     &    -0.761  &         0.447        &      -32.642    &       14.397     \\\\\n",
       "\\bottomrule\n",
       "\\end{tabular}\n",
       "\\begin{tabular}{lclc}\n",
       "\\textbf{Omnibus:}       &  0.895 & \\textbf{  Durbin-Watson:     } &    2.010  \\\\\n",
       "\\textbf{Prob(Omnibus):} &  0.639 & \\textbf{  Jarque-Bera (JB):  } &    0.839  \\\\\n",
       "\\textbf{Skew:}          & -0.070 & \\textbf{  Prob(JB):          } &    0.657  \\\\\n",
       "\\textbf{Kurtosis:}      &  3.023 & \\textbf{  Cond. No.          } &     8.06  \\\\\n",
       "\\bottomrule\n",
       "\\end{tabular}\n",
       "%\\caption{OLS Regression Results}\n",
       "\\end{center}\n",
       "\n",
       "Notes: \\newline\n",
       " [1] R² is computed without centering (uncentered) since the model does not contain a constant. \\newline\n",
       " [2] Standard Errors assume that the covariance matrix of the errors is correctly specified."
      ],
      "text/plain": [
       "<class 'statsmodels.iolib.summary.Summary'>\n",
       "\"\"\"\n",
       "                                 OLS Regression Results                                \n",
       "=======================================================================================\n",
       "Dep. Variable:                      y   R-squared (uncentered):                   0.647\n",
       "Model:                            OLS   Adj. R-squared (uncentered):              0.627\n",
       "Method:                 Least Squares   F-statistic:                              31.55\n",
       "Date:                Thu, 19 Sep 2024   Prob (F-statistic):                   9.57e-176\n",
       "Time:                        01:16:16   Log-Likelihood:                         -7818.7\n",
       "No. Observations:                1000   AIC:                                  1.575e+04\n",
       "Df Residuals:                     945   BIC:                                  1.602e+04\n",
       "Df Model:                          55                                                  \n",
       "Covariance Type:            nonrobust                                                  \n",
       "==============================================================================\n",
       "                 coef    std err          t      P>|t|      [0.025      0.975]\n",
       "------------------------------------------------------------------------------\n",
       "x1            57.3658     14.154      4.053      0.000      29.589      85.143\n",
       "x2           -40.6803     13.641     -2.982      0.003     -67.450     -13.911\n",
       "x3           -13.2657     14.287     -0.928      0.353     -41.304      14.773\n",
       "x4           -49.5758     13.057     -3.797      0.000     -75.200     -23.951\n",
       "x5           -36.3984     14.723     -2.472      0.014     -65.292      -7.504\n",
       "x6             8.1824      8.344      0.981      0.327      -8.192      24.557\n",
       "x7            43.0134     12.999      3.309      0.001      17.503      68.524\n",
       "x8            49.9383     14.230      3.509      0.000      22.012      77.865\n",
       "x9            53.3374     13.869      3.846      0.000      26.119      80.556\n",
       "x10           60.7308     14.259      4.259      0.000      32.748      88.714\n",
       "x11           11.5816     14.121      0.820      0.412     -16.131      39.295\n",
       "x12          -72.2129     13.922     -5.187      0.000     -99.535     -44.891\n",
       "x13            9.2275      9.431      0.978      0.328      -9.280      27.735\n",
       "x14          -61.2858     13.951     -4.393      0.000     -88.664     -33.908\n",
       "x15          -81.2832     13.622     -5.967      0.000    -108.015     -54.551\n",
       "x16          -29.5028     12.774     -2.310      0.021     -54.571      -4.434\n",
       "x17          -25.4860     11.380     -2.240      0.025     -47.818      -3.154\n",
       "x18          -35.4951     13.934     -2.547      0.011     -62.841      -8.149\n",
       "x19          -50.2376     13.457     -3.733      0.000     -76.646     -23.829\n",
       "x20           36.3409     13.876      2.619      0.009       9.109      63.573\n",
       "x21           66.8919     13.262      5.044      0.000      40.866      92.918\n",
       "x22          -35.8992     13.355     -2.688      0.007     -62.109      -9.690\n",
       "x23          -46.5315     14.693     -3.167      0.002     -75.365     -17.698\n",
       "x24           55.0520     12.972      4.244      0.000      29.596      80.509\n",
       "x25          -59.0304     12.973     -4.550      0.000     -84.490     -33.570\n",
       "x26          -32.4626     13.478     -2.409      0.016     -58.913      -6.012\n",
       "x27           44.5868     11.361      3.925      0.000      22.291      66.883\n",
       "x28           28.7415     11.932      2.409      0.016       5.326      52.157\n",
       "x29           65.3967      9.011      7.258      0.000      47.714      83.080\n",
       "x30           49.8855     10.318      4.835      0.000      29.636      70.135\n",
       "x31           12.7012      8.667      1.466      0.143      -4.307      29.709\n",
       "x32           43.5694     13.586      3.207      0.001      16.907      70.232\n",
       "x33          -98.3685     13.835     -7.110      0.000    -125.520     -71.217\n",
       "x34           17.7366     12.047      1.472      0.141      -5.906      41.380\n",
       "x35           67.6167     14.709      4.597      0.000      38.751      96.482\n",
       "x36           37.8872     13.275      2.854      0.004      11.835      63.940\n",
       "x37          -25.5192      9.484     -2.691      0.007     -44.131      -6.907\n",
       "x38          -56.3583     12.891     -4.372      0.000     -81.656     -31.061\n",
       "x39           93.6957     12.498      7.497      0.000      69.168     118.224\n",
       "x40           47.4661     12.961      3.662      0.000      22.031      72.901\n",
       "x41           52.7171     13.899      3.793      0.000      25.441      79.993\n",
       "x42          -47.6091     12.650     -3.764      0.000     -72.434     -22.784\n",
       "x43           -7.2150      9.090     -0.794      0.428     -25.053      10.623\n",
       "x44           31.6791     12.464      2.542      0.011       7.219      56.139\n",
       "x45          -16.9206     10.975     -1.542      0.123     -38.459       4.618\n",
       "x46          -57.9388     10.904     -5.313      0.000     -79.339     -36.539\n",
       "x47           31.1459      9.968      3.125      0.002      11.584      50.708\n",
       "x48           46.7472     13.328      3.507      0.000      20.591      72.904\n",
       "x49          -74.3706     13.475     -5.519      0.000    -100.816     -47.926\n",
       "x50          -52.9162     10.792     -4.904      0.000     -74.094     -31.738\n",
       "x51           44.8050     19.712      2.273      0.023       6.121      83.489\n",
       "x52           28.7541     20.848      1.379      0.168     -12.159      69.667\n",
       "x53          -28.8236     19.292     -1.494      0.135     -66.683       9.036\n",
       "x54           57.1077     23.736      2.406      0.016      10.526     103.690\n",
       "x55           -9.1223     11.985     -0.761      0.447     -32.642      14.397\n",
       "==============================================================================\n",
       "Omnibus:                        0.895   Durbin-Watson:                   2.010\n",
       "Prob(Omnibus):                  0.639   Jarque-Bera (JB):                0.839\n",
       "Skew:                          -0.070   Prob(JB):                        0.657\n",
       "Kurtosis:                       3.023   Cond. No.                         8.06\n",
       "==============================================================================\n",
       "\n",
       "Notes:\n",
       "[1] R² is computed without centering (uncentered) since the model does not contain a constant.\n",
       "[2] Standard Errors assume that the covariance matrix of the errors is correctly specified.\n",
       "\"\"\""
      ]
     },
     "execution_count": 26,
     "metadata": {},
     "output_type": "execute_result"
    }
   ],
   "source": [
    "sma.OLS(dg.Y, dg.obs_X).fit().summary()"
   ]
  },
  {
   "cell_type": "code",
   "execution_count": 27,
   "id": "c939e93b-7200-4b49-9af7-57966fbec803",
   "metadata": {},
   "outputs": [
    {
     "data": {
      "text/plain": [
       "array([[1.        , 0.39111034],\n",
       "       [0.39111034, 1.        ]])"
      ]
     },
     "execution_count": 27,
     "metadata": {},
     "output_type": "execute_result"
    }
   ],
   "source": [
    "np.corrcoef(np.c_[dg.errors, np.roll(dg.errors, 1)], rowvar=False)"
   ]
  },
  {
   "cell_type": "code",
   "execution_count": null,
   "id": "8cc2625c-7f94-4957-aabc-67c7ffe8c04b",
   "metadata": {},
   "outputs": [],
   "source": []
  }
 ],
 "metadata": {
  "kernelspec": {
   "display_name": "Python 3 (ipykernel)",
   "language": "python",
   "name": "python3"
  },
  "language_info": {
   "codemirror_mode": {
    "name": "ipython",
    "version": 3
   },
   "file_extension": ".py",
   "mimetype": "text/x-python",
   "name": "python",
   "nbconvert_exporter": "python",
   "pygments_lexer": "ipython3",
   "version": "3.11.2"
  }
 },
 "nbformat": 4,
 "nbformat_minor": 5
}
